{
 "cells": [
  {
   "cell_type": "markdown",
   "id": "601787a6",
   "metadata": {},
   "source": [
    "## Import Libraries"
   ]
  },
  {
   "cell_type": "code",
   "execution_count": 1,
   "id": "27d25468",
   "metadata": {},
   "outputs": [],
   "source": [
    "import os\n",
    "import cv2 \n",
    "import mediapipe as mp   \n",
    "import pandas as pd   \n",
    "from tqdm import tqdm "
   ]
  },
  {
   "cell_type": "markdown",
   "id": "230e4ad8",
   "metadata": {},
   "source": [
    "## Set Dataset path"
   ]
  },
  {
   "cell_type": "code",
   "execution_count": 2,
   "id": "ef74cc5c",
   "metadata": {},
   "outputs": [],
   "source": [
    "DATASET_PATH = 'dataset/asl_alphabet_train'"
   ]
  },
  {
   "cell_type": "markdown",
   "id": "6c480923",
   "metadata": {},
   "source": [
    "## Initialize mediapipe"
   ]
  },
  {
   "cell_type": "code",
   "execution_count": 3,
   "id": "df4b8f16",
   "metadata": {},
   "outputs": [
    {
     "name": "stderr",
     "output_type": "stream",
     "text": [
      "100%|██████████| 29/29 [02:22<00:00,  4.92s/it]\n"
     ]
    },
    {
     "name": "stdout",
     "output_type": "stream",
     "text": [
      "[INFO] Landmark data saved to asl_landmarks.csv!\n"
     ]
    }
   ],
   "source": [
    "# Initialize MediaPipe Hands\n",
    "mp_hands = mp.solutions.hands\n",
    "hands = mp_hands.Hands(static_image_mode=True, max_num_hands=1, min_detection_confidence=0.2)\n",
    "\n",
    "# Prepare Data Storage\n",
    "all_landmarks = []\n",
    "all_labels = []\n",
    "\n",
    "# Loop over all folders (classes)\n",
    "for label in tqdm(os.listdir(DATASET_PATH)):\n",
    "    label_folder = os.path.join(DATASET_PATH,label)\n",
    "    if not os.path.isdir(label_folder):\n",
    "        continue\n",
    "    \n",
    "    image_files = os.listdir(label_folder)[:200]    # Process only 200 images\n",
    "        \n",
    "    for image_name in image_files:\n",
    "        image_path = os.path.join(label_folder, image_name)\n",
    "        \n",
    "        # Read and process image\n",
    "        img = cv2.imread(image_path)\n",
    "        \n",
    "        if img is None:\n",
    "            continue\n",
    "        \n",
    "        img_rgb = cv2.cvtColor(img,cv2.COLOR_BGR2RGB)\n",
    "        \n",
    "        # Process with Mediapipe Hands\n",
    "        result = hands.process(img_rgb)\n",
    "        \n",
    "        # If hand detected\n",
    "        if result.multi_hand_landmarks:\n",
    "            hand_landmarks = result.multi_hand_landmarks[0]\n",
    "            \n",
    "            landmarks = []\n",
    "            for lm in hand_landmarks.landmark:\n",
    "                landmarks.extend([lm.x, lm.y, lm.z])\n",
    "                \n",
    "            # Append keypoints and label\n",
    "            all_landmarks.append(landmarks)\n",
    "            all_labels.append(label)\n",
    "            \n",
    "hands.close()\n",
    "            \n",
    "# Save CSV\n",
    "df = pd.DataFrame(all_landmarks)\n",
    "df['label'] = all_labels        # Add the lables as the last column\n",
    "\n",
    "df.to_csv('asl_landmarks.csv', index=False)\n",
    "\n",
    "print(\"[INFO] Landmark data saved to asl_landmarks.csv!\")"
   ]
  },
  {
   "cell_type": "markdown",
   "id": "a56abfc6",
   "metadata": {},
   "source": [
    "## Load the csv file"
   ]
  },
  {
   "cell_type": "code",
   "execution_count": 4,
   "id": "f744df13",
   "metadata": {},
   "outputs": [],
   "source": [
    "import pandas as pd  \n",
    "from sklearn.model_selection import train_test_split\n",
    "from sklearn.preprocessing import LabelEncoder \n",
    "import torch \n",
    "from torch.utils.data import TensorDataset, DataLoader"
   ]
  },
  {
   "cell_type": "code",
   "execution_count": 5,
   "id": "8f3a812f",
   "metadata": {},
   "outputs": [
    {
     "data": {
      "text/html": [
       "<div>\n",
       "<style scoped>\n",
       "    .dataframe tbody tr th:only-of-type {\n",
       "        vertical-align: middle;\n",
       "    }\n",
       "\n",
       "    .dataframe tbody tr th {\n",
       "        vertical-align: top;\n",
       "    }\n",
       "\n",
       "    .dataframe thead th {\n",
       "        text-align: right;\n",
       "    }\n",
       "</style>\n",
       "<table border=\"1\" class=\"dataframe\">\n",
       "  <thead>\n",
       "    <tr style=\"text-align: right;\">\n",
       "      <th></th>\n",
       "      <th>0</th>\n",
       "      <th>1</th>\n",
       "      <th>2</th>\n",
       "      <th>3</th>\n",
       "      <th>4</th>\n",
       "      <th>5</th>\n",
       "      <th>6</th>\n",
       "      <th>7</th>\n",
       "      <th>8</th>\n",
       "      <th>9</th>\n",
       "      <th>...</th>\n",
       "      <th>54</th>\n",
       "      <th>55</th>\n",
       "      <th>56</th>\n",
       "      <th>57</th>\n",
       "      <th>58</th>\n",
       "      <th>59</th>\n",
       "      <th>60</th>\n",
       "      <th>61</th>\n",
       "      <th>62</th>\n",
       "      <th>label</th>\n",
       "    </tr>\n",
       "  </thead>\n",
       "  <tbody>\n",
       "    <tr>\n",
       "      <th>0</th>\n",
       "      <td>0.456279</td>\n",
       "      <td>0.582866</td>\n",
       "      <td>-6.584945e-07</td>\n",
       "      <td>0.570094</td>\n",
       "      <td>0.505005</td>\n",
       "      <td>-0.034586</td>\n",
       "      <td>0.640060</td>\n",
       "      <td>0.374415</td>\n",
       "      <td>-0.042282</td>\n",
       "      <td>0.652213</td>\n",
       "      <td>...</td>\n",
       "      <td>0.390253</td>\n",
       "      <td>0.322063</td>\n",
       "      <td>-0.069911</td>\n",
       "      <td>0.404481</td>\n",
       "      <td>0.406341</td>\n",
       "      <td>-0.055215</td>\n",
       "      <td>0.403924</td>\n",
       "      <td>0.459354</td>\n",
       "      <td>-0.028682</td>\n",
       "      <td>A</td>\n",
       "    </tr>\n",
       "    <tr>\n",
       "      <th>1</th>\n",
       "      <td>0.485093</td>\n",
       "      <td>0.614893</td>\n",
       "      <td>-7.992898e-07</td>\n",
       "      <td>0.602827</td>\n",
       "      <td>0.542922</td>\n",
       "      <td>-0.026396</td>\n",
       "      <td>0.675263</td>\n",
       "      <td>0.406042</td>\n",
       "      <td>-0.031474</td>\n",
       "      <td>0.687758</td>\n",
       "      <td>...</td>\n",
       "      <td>0.432704</td>\n",
       "      <td>0.361868</td>\n",
       "      <td>-0.072337</td>\n",
       "      <td>0.445811</td>\n",
       "      <td>0.450380</td>\n",
       "      <td>-0.060676</td>\n",
       "      <td>0.443904</td>\n",
       "      <td>0.505542</td>\n",
       "      <td>-0.038929</td>\n",
       "      <td>A</td>\n",
       "    </tr>\n",
       "    <tr>\n",
       "      <th>2</th>\n",
       "      <td>0.723704</td>\n",
       "      <td>0.674980</td>\n",
       "      <td>-6.123386e-07</td>\n",
       "      <td>0.796559</td>\n",
       "      <td>0.619103</td>\n",
       "      <td>-0.032441</td>\n",
       "      <td>0.847783</td>\n",
       "      <td>0.513528</td>\n",
       "      <td>-0.038357</td>\n",
       "      <td>0.861929</td>\n",
       "      <td>...</td>\n",
       "      <td>0.624166</td>\n",
       "      <td>0.453709</td>\n",
       "      <td>-0.041509</td>\n",
       "      <td>0.630865</td>\n",
       "      <td>0.510138</td>\n",
       "      <td>-0.034503</td>\n",
       "      <td>0.640048</td>\n",
       "      <td>0.556850</td>\n",
       "      <td>-0.017409</td>\n",
       "      <td>A</td>\n",
       "    </tr>\n",
       "    <tr>\n",
       "      <th>3</th>\n",
       "      <td>0.713530</td>\n",
       "      <td>0.752652</td>\n",
       "      <td>-5.009637e-07</td>\n",
       "      <td>0.830277</td>\n",
       "      <td>0.651050</td>\n",
       "      <td>-0.042237</td>\n",
       "      <td>0.898340</td>\n",
       "      <td>0.497312</td>\n",
       "      <td>-0.055470</td>\n",
       "      <td>0.896686</td>\n",
       "      <td>...</td>\n",
       "      <td>0.604145</td>\n",
       "      <td>0.448732</td>\n",
       "      <td>-0.108903</td>\n",
       "      <td>0.632602</td>\n",
       "      <td>0.544922</td>\n",
       "      <td>-0.093969</td>\n",
       "      <td>0.637858</td>\n",
       "      <td>0.611655</td>\n",
       "      <td>-0.062847</td>\n",
       "      <td>A</td>\n",
       "    </tr>\n",
       "    <tr>\n",
       "      <th>4</th>\n",
       "      <td>0.718624</td>\n",
       "      <td>0.761273</td>\n",
       "      <td>-4.914711e-07</td>\n",
       "      <td>0.834422</td>\n",
       "      <td>0.665993</td>\n",
       "      <td>-0.040487</td>\n",
       "      <td>0.904140</td>\n",
       "      <td>0.503900</td>\n",
       "      <td>-0.051425</td>\n",
       "      <td>0.902624</td>\n",
       "      <td>...</td>\n",
       "      <td>0.610697</td>\n",
       "      <td>0.459788</td>\n",
       "      <td>-0.114733</td>\n",
       "      <td>0.639558</td>\n",
       "      <td>0.555921</td>\n",
       "      <td>-0.101348</td>\n",
       "      <td>0.649140</td>\n",
       "      <td>0.624406</td>\n",
       "      <td>-0.071322</td>\n",
       "      <td>A</td>\n",
       "    </tr>\n",
       "  </tbody>\n",
       "</table>\n",
       "<p>5 rows × 64 columns</p>\n",
       "</div>"
      ],
      "text/plain": [
       "          0         1             2         3         4         5         6  \\\n",
       "0  0.456279  0.582866 -6.584945e-07  0.570094  0.505005 -0.034586  0.640060   \n",
       "1  0.485093  0.614893 -7.992898e-07  0.602827  0.542922 -0.026396  0.675263   \n",
       "2  0.723704  0.674980 -6.123386e-07  0.796559  0.619103 -0.032441  0.847783   \n",
       "3  0.713530  0.752652 -5.009637e-07  0.830277  0.651050 -0.042237  0.898340   \n",
       "4  0.718624  0.761273 -4.914711e-07  0.834422  0.665993 -0.040487  0.904140   \n",
       "\n",
       "          7         8         9  ...        54        55        56        57  \\\n",
       "0  0.374415 -0.042282  0.652213  ...  0.390253  0.322063 -0.069911  0.404481   \n",
       "1  0.406042 -0.031474  0.687758  ...  0.432704  0.361868 -0.072337  0.445811   \n",
       "2  0.513528 -0.038357  0.861929  ...  0.624166  0.453709 -0.041509  0.630865   \n",
       "3  0.497312 -0.055470  0.896686  ...  0.604145  0.448732 -0.108903  0.632602   \n",
       "4  0.503900 -0.051425  0.902624  ...  0.610697  0.459788 -0.114733  0.639558   \n",
       "\n",
       "         58        59        60        61        62  label  \n",
       "0  0.406341 -0.055215  0.403924  0.459354 -0.028682      A  \n",
       "1  0.450380 -0.060676  0.443904  0.505542 -0.038929      A  \n",
       "2  0.510138 -0.034503  0.640048  0.556850 -0.017409      A  \n",
       "3  0.544922 -0.093969  0.637858  0.611655 -0.062847      A  \n",
       "4  0.555921 -0.101348  0.649140  0.624406 -0.071322      A  \n",
       "\n",
       "[5 rows x 64 columns]"
      ]
     },
     "execution_count": 5,
     "metadata": {},
     "output_type": "execute_result"
    }
   ],
   "source": [
    "df = pd.read_csv('asl_landmarks.csv')\n",
    "df.head()"
   ]
  },
  {
   "cell_type": "code",
   "execution_count": 6,
   "id": "e94e54ea",
   "metadata": {},
   "outputs": [],
   "source": [
    "x = df.drop('label',axis=1).values\n",
    "y = df['label'].values"
   ]
  },
  {
   "cell_type": "code",
   "execution_count": 7,
   "id": "c76adad5",
   "metadata": {},
   "outputs": [],
   "source": [
    "label_encoder = LabelEncoder()\n",
    "y_encoded = label_encoder.fit_transform(y)"
   ]
  },
  {
   "cell_type": "code",
   "execution_count": 8,
   "id": "7fc8cc62",
   "metadata": {},
   "outputs": [
    {
     "data": {
      "text/plain": [
       "array([ 0,  0,  0, ..., 25, 25, 25])"
      ]
     },
     "execution_count": 8,
     "metadata": {},
     "output_type": "execute_result"
    }
   ],
   "source": [
    "y_encoded"
   ]
  },
  {
   "cell_type": "markdown",
   "id": "62090be6",
   "metadata": {},
   "source": [
    "## Split into train,validation and test"
   ]
  },
  {
   "cell_type": "code",
   "execution_count": 9,
   "id": "2242387a",
   "metadata": {},
   "outputs": [],
   "source": [
    "x_train, x_temp ,y_train, y_temp = train_test_split(x,y_encoded,test_size=0.2, random_state=42)\n",
    "x_val, x_test, y_val,y_test = train_test_split(x_temp,y_temp,test_size=0.5,random_state=42)"
   ]
  },
  {
   "cell_type": "code",
   "execution_count": 10,
   "id": "4b22d6a7",
   "metadata": {},
   "outputs": [],
   "source": [
    "# Convert to pytorch tensors\n",
    "x_train_tensor = torch.tensor(x_train,dtype=torch.float32)\n",
    "x_val_tensor = torch.tensor(x_val,dtype=torch.float32)\n",
    "x_test_tensor = torch.tensor(x_test,dtype=torch.float32)\n",
    "y_train_tensor = torch.tensor(y_train,dtype=torch.long)\n",
    "y_val_tensor = torch.tensor(y_val,dtype=torch.long)\n",
    "y_test_tensor = torch.tensor(y_test,dtype=torch.long)"
   ]
  },
  {
   "cell_type": "markdown",
   "id": "883e092f",
   "metadata": {},
   "source": [
    "## Create pytorch dataset"
   ]
  },
  {
   "cell_type": "code",
   "execution_count": 11,
   "id": "de60e54f",
   "metadata": {},
   "outputs": [],
   "source": [
    "train_dataset = TensorDataset(x_train_tensor,y_train_tensor)\n",
    "test_dataset = TensorDataset(x_test_tensor,y_test_tensor)\n",
    "val_dataset = TensorDataset(x_val_tensor,y_val_tensor)"
   ]
  },
  {
   "cell_type": "code",
   "execution_count": 12,
   "id": "3d34940d",
   "metadata": {},
   "outputs": [],
   "source": [
    "train_loader = DataLoader(train_dataset,batch_size=64,shuffle=True)\n",
    "val_loader = DataLoader(val_dataset,batch_size=64,shuffle=False)\n",
    "test_loader = DataLoader(test_dataset,batch_size=64,shuffle=False)"
   ]
  },
  {
   "cell_type": "markdown",
   "id": "97940569",
   "metadata": {},
   "source": [
    "## Build a classification model"
   ]
  },
  {
   "cell_type": "code",
   "execution_count": 13,
   "id": "535abbed",
   "metadata": {},
   "outputs": [],
   "source": [
    "import torch\n",
    "import torch.nn as nn\n",
    "import torch.nn.functional as F"
   ]
  },
  {
   "cell_type": "code",
   "execution_count": 14,
   "id": "a43469ce",
   "metadata": {},
   "outputs": [],
   "source": [
    "class LandmarkModel(nn.Module):\n",
    "    def __init__(self, input_size, hidden_size,num_classes):\n",
    "        super(LandmarkModel,self).__init__()        \n",
    "        self.fc1 = nn.Linear(input_size,512)\n",
    "        self.fc2 = nn.Linear(512,512)\n",
    "        self.fc3 = nn.Linear(512,29)\n",
    "        self.relu = nn.ReLU()\n",
    "        self.dropout = nn.Dropout(0.3) \n",
    "        \n",
    "    def forward(self,x):\n",
    "        x = self.relu(self.fc1(x))     # Activation after first hidden layer\n",
    "        x = self.dropout(x)         # Dropout regularization\n",
    "        x = self.relu(self.fc2(x))     # Activation after second hidden layer\n",
    "        x = self.dropout(x)         # Dropout regularization\n",
    "        x = self.fc3(x)             # Output layer (no activation because we'll use CrossEntropyLoss)\n",
    "        return x"
   ]
  },
  {
   "cell_type": "code",
   "execution_count": 15,
   "id": "53d1ab79",
   "metadata": {},
   "outputs": [
    {
     "name": "stdout",
     "output_type": "stream",
     "text": [
      "LandmarkModel(\n",
      "  (fc1): Linear(in_features=63, out_features=512, bias=True)\n",
      "  (fc2): Linear(in_features=512, out_features=512, bias=True)\n",
      "  (fc3): Linear(in_features=512, out_features=29, bias=True)\n",
      "  (relu): ReLU()\n",
      "  (dropout): Dropout(p=0.3, inplace=False)\n",
      ")\n"
     ]
    }
   ],
   "source": [
    "# Find input size and number of classes\n",
    "input_size = x_train.shape[1]\n",
    "num_classes = len(label_encoder.classes_)\n",
    "hidden_size = 512\n",
    "\n",
    "# Instatiate model\n",
    "device = torch.device('cuda' if torch.cuda.is_available() else 'cpu')\n",
    "model = LandmarkModel(input_size=63,hidden_size=512, num_classes=29).to(device)\n",
    "\n",
    "# Loss function and optimizer\n",
    "criterion = nn.CrossEntropyLoss()\n",
    "optimizer = torch.optim.Adam(model.parameters(),lr=0.001)\n",
    "\n",
    "print(model)"
   ]
  },
  {
   "cell_type": "markdown",
   "id": "cf396b9f",
   "metadata": {},
   "source": [
    "## Train a Model"
   ]
  },
  {
   "cell_type": "code",
   "execution_count": 16,
   "id": "f5db1853",
   "metadata": {},
   "outputs": [
    {
     "name": "stdout",
     "output_type": "stream",
     "text": [
      "Epoch [1/20] - Train Loss: 2.9350, Train Acc: 0.1953 | Val Loss: 23.4803, Val Acc: 0.3353\n",
      "Epoch [2/20] - Train Loss: 1.6205, Train Acc: 0.5565 | Val Loss: 12.9641, Val Acc: 0.7824\n",
      "Epoch [3/20] - Train Loss: 0.8781, Train Acc: 0.7601 | Val Loss: 7.0251, Val Acc: 0.8373\n",
      "Epoch [4/20] - Train Loss: 0.6115, Train Acc: 0.8417 | Val Loss: 4.8923, Val Acc: 0.9176\n",
      "Epoch [5/20] - Train Loss: 0.4610, Train Acc: 0.8814 | Val Loss: 3.6884, Val Acc: 0.9118\n",
      "Epoch [6/20] - Train Loss: 0.3755, Train Acc: 0.8988 | Val Loss: 3.0041, Val Acc: 0.9235\n",
      "Epoch [7/20] - Train Loss: 0.3170, Train Acc: 0.9172 | Val Loss: 2.5358, Val Acc: 0.9608\n",
      "Epoch [8/20] - Train Loss: 0.2897, Train Acc: 0.9204 | Val Loss: 2.3173, Val Acc: 0.9431\n",
      "Epoch [9/20] - Train Loss: 0.2431, Train Acc: 0.9368 | Val Loss: 1.9451, Val Acc: 0.9549\n",
      "Epoch [10/20] - Train Loss: 0.2182, Train Acc: 0.9400 | Val Loss: 1.7454, Val Acc: 0.9569\n",
      "Epoch [11/20] - Train Loss: 0.1943, Train Acc: 0.9498 | Val Loss: 1.5542, Val Acc: 0.9667\n",
      "Epoch [12/20] - Train Loss: 0.1698, Train Acc: 0.9556 | Val Loss: 1.3584, Val Acc: 0.9627\n",
      "Epoch [13/20] - Train Loss: 0.1626, Train Acc: 0.9559 | Val Loss: 1.3008, Val Acc: 0.9745\n",
      "Epoch [14/20] - Train Loss: 0.1366, Train Acc: 0.9632 | Val Loss: 1.0926, Val Acc: 0.9686\n",
      "Epoch [15/20] - Train Loss: 0.1309, Train Acc: 0.9613 | Val Loss: 1.0473, Val Acc: 0.9824\n",
      "Epoch [16/20] - Train Loss: 0.1466, Train Acc: 0.9564 | Val Loss: 1.1732, Val Acc: 0.9745\n",
      "Epoch [17/20] - Train Loss: 0.1073, Train Acc: 0.9713 | Val Loss: 0.8583, Val Acc: 0.9725\n",
      "Epoch [18/20] - Train Loss: 0.1069, Train Acc: 0.9694 | Val Loss: 0.8554, Val Acc: 0.9706\n",
      "Epoch [19/20] - Train Loss: 0.0999, Train Acc: 0.9689 | Val Loss: 0.7995, Val Acc: 0.9745\n",
      "Epoch [20/20] - Train Loss: 0.0878, Train Acc: 0.9760 | Val Loss: 0.7026, Val Acc: 0.9824\n"
     ]
    }
   ],
   "source": [
    "num_epochs = 20\n",
    "\n",
    "train_losses = []\n",
    "val_losses = []\n",
    "train_accuracies = []\n",
    "val_accuracies = []\n",
    "\n",
    "for epoch in range(num_epochs):\n",
    "    model.train()\n",
    "    running_loss = 0.0\n",
    "    correct = 0\n",
    "    total = 0\n",
    "    \n",
    "    for inputs, labels in train_loader:\n",
    "        inputs, labels = inputs.to(device), labels.to(device)\n",
    "        \n",
    "        optimizer.zero_grad()\n",
    "        outputs = model(inputs)\n",
    "        loss = criterion(outputs,labels)\n",
    "        loss.backward()\n",
    "        optimizer.step()\n",
    "        \n",
    "        running_loss += loss.item()\n",
    "        _, predicted = torch.max(outputs,1)\n",
    "        total += labels.size(0)\n",
    "        correct += (predicted == labels).sum().item()\n",
    "        \n",
    "    train_loss = running_loss / len(train_loader)\n",
    "    train_acc = correct / total\n",
    "    train_losses.append(train_loss)\n",
    "    train_accuracies.append(train_acc)\n",
    "    \n",
    "    # Validation\n",
    "    model.eval()\n",
    "    val_loss = 0.0\n",
    "    correct = 0\n",
    "    total = 0\n",
    "    \n",
    "    with torch.no_grad():\n",
    "        for inputs, labels in val_loader:\n",
    "            inputs, labels = inputs.to(device), labels.to(device)\n",
    "            outputs = model(inputs)\n",
    "            loss = criterion(outputs, labels)\n",
    "            val_loss += loss.item()\n",
    "            _, predicted = torch.max(outputs,1)\n",
    "            total += labels.size(0)\n",
    "            correct += (predicted == labels).sum().item()\n",
    "            \n",
    "    val_loss = running_loss / len(val_loader)\n",
    "    val_acc = correct / total\n",
    "    val_losses.append(val_loss)\n",
    "    val_accuracies.append(train_acc)\n",
    "    \n",
    "    \n",
    "    print(f\"Epoch [{epoch+1}/{num_epochs}] - \"\n",
    "          f\"Train Loss: {train_loss:.4f}, Train Acc: {train_acc:.4f} | \"\n",
    "          f\"Val Loss: {val_loss:.4f}, Val Acc: {val_acc:.4f}\")"
   ]
  },
  {
   "cell_type": "markdown",
   "id": "f0801e34",
   "metadata": {},
   "source": [
    "## Plot the results"
   ]
  },
  {
   "cell_type": "code",
   "execution_count": 17,
   "id": "cd33defb",
   "metadata": {},
   "outputs": [
    {
     "data": {
      "image/png": "[encoded data removed]",
      "text/plain": [
       "<Figure size 1200x500 with 2 Axes>"
      ]
     },
     "metadata": {},
     "output_type": "display_data"
    }
   ],
   "source": [
    "import matplotlib.pyplot as plt  \n",
    "\n",
    "plt.figure(figsize=(12,5)) \n",
    "\n",
    "plt.subplot(1,2,1)\n",
    "plt.plot(train_accuracies,label='Train Accuracy')\n",
    "plt.plot(val_accuracies, label='Validation Accuracy')\n",
    "plt.xlabel('Epochs')\n",
    "plt.ylabel('Accuracy')\n",
    "plt.title('Accuracy over Epochs')\n",
    "\n",
    "plt.subplot(1,2,2)\n",
    "plt.plot(train_losses,label='Train Loss')\n",
    "plt.plot(val_losses, label='Validation Loss')\n",
    "plt.xlabel('Epochs')\n",
    "plt.ylabel('Loss')\n",
    "plt.title('Loss over Epochs')\n",
    "\n",
    "plt.tight_layout()\n",
    "plt.show()"
   ]
  },
  {
   "cell_type": "markdown",
   "id": "4432f623",
   "metadata": {},
   "source": [
    "## Evaluate the Model"
   ]
  },
  {
   "cell_type": "code",
   "execution_count": 18,
   "id": "b6ee743b",
   "metadata": {},
   "outputs": [
    {
     "name": "stdout",
     "output_type": "stream",
     "text": [
      "Test Loss: 0.7026, Test Acc: 0.9902\n"
     ]
    }
   ],
   "source": [
    "model.eval()\n",
    "test_loss = 0.0\n",
    "correct = 0\n",
    "total = 0\n",
    "\n",
    "with torch.no_grad():\n",
    "        for inputs, labels in test_loader:\n",
    "            inputs, labels = inputs.to(device), labels.to(device)\n",
    "            outputs = model(inputs)\n",
    "            loss = criterion(outputs, labels)\n",
    "            test_loss += loss.item()\n",
    "            _, predicted = torch.max(outputs,1)\n",
    "            total += labels.size(0)\n",
    "            correct += (predicted == labels).sum().item()\n",
    "            \n",
    "test_loss = running_loss / len(test_loader)\n",
    "test_acc = correct / total\n",
    "\n",
    "print(f\"Test Loss: {test_loss:.4f}, Test Acc: {test_acc:.4f}\")"
   ]
  },
  {
   "cell_type": "markdown",
   "id": "7635b6a8",
   "metadata": {},
   "source": [
    "## Save the Model"
   ]
  },
  {
   "cell_type": "code",
   "execution_count": 19,
   "id": "c7381cab",
   "metadata": {},
   "outputs": [],
   "source": [
    "torch.save(model.state_dict(), 'asl_mediapipe_landmark_model.pth')"
   ]
  }
 ],
 "metadata": {
  "kernelspec": {
   "display_name": "Python 3",
   "language": "python",
   "name": "python3"
  },
  "language_info": {
   "codemirror_mode": {
    "name": "ipython",
    "version": 3
   },
   "file_extension": ".py",
   "mimetype": "text/x-python",
   "name": "python",
   "nbconvert_exporter": "python",
   "pygments_lexer": "ipython3",
   "version": "3.10.10"
  }
 },
 "nbformat": 4,
 "nbformat_minor": 5
}
